{
 "cells": [
  {
   "cell_type": "markdown",
   "metadata": {},
   "source": [
    "## Objective: Text Classification with Logistic Regression  \n",
    "\n",
    "### Overview  \n",
    "This task involves classifying movie reviews from the **Stanford Sentiment Treebank (SST)** into five sentiment categories based on their sentiment scores.  \n",
    "\n",
    "### Part 2.1: Preprocessing for Classification  \n",
    "- Convert sentiment scores **(0 to 1)** into **five discrete classes**:  \n",
    "  - **0 - 0.2** → Class 0: \"Very Negative\"  \n",
    "  - **0.2 - 0.4** → Class 1: \"Negative\"  \n",
    "  - **0.4 - 0.6** → Class 2: \"Neutral\"  \n",
    "  - **0.6 - 0.8** → Class 3: \"Positive\"  \n",
    "  - **0.8 - 1.0** → Class 4: \"Very Positive\"  "
   ]
  },
  {
   "cell_type": "markdown",
   "metadata": {},
   "source": [
    "## Libraries Used  \n",
    "\n",
    "| Library          | Purpose |\n",
    "|-----------------|--------------------------------------------------------------------------|\n",
    "| `datasets` (Hugging Face) | Loads the Stanford Sentiment Treebank (SST) dataset. |\n",
    "| `numpy`         | Performs numerical operations and matrix manipulations. |\n",
    "| `pandas`        | Handles structured data using DataFrames. |\n",
    "| `tqdm`          | Displays progress bars for loops and iterations. |\n",
    "| `prettytable`   | Formats and displays tabular data in a readable format. |\n",
    "| `seaborn`       | Enhances data visualization with statistical plotting tools. |\n",
    "| `matplotlib.pyplot` | Generates plots and visualizations for data analysis. |\n",
    "| `re`            | Provides regular expressions for text preprocessing and cleaning. |\n",
    "| `contractions`  | Expands contractions in text (e.g., \"can't\" → \"cannot\") for better NLP preprocessing. |\n",
    "\n"
   ]
  },
  {
   "cell_type": "code",
   "execution_count": 23,
   "metadata": {},
   "outputs": [],
   "source": [
    "from datasets import load_dataset\n",
    "import numpy as np\n",
    "import pandas as pd\n",
    "from tqdm import tqdm\n",
    "from prettytable import PrettyTable\n",
    "import seaborn as sns\n",
    "import matplotlib.pyplot as plt\n",
    "import re\n",
    "import contractions\n",
    "from sklearn.linear_model import SGDClassifier\n",
    "from sklearn.pipeline import make_pipeline\n",
    "from sklearn.linear_model import LogisticRegression\n",
    "from sklearn.feature_extraction.text import CountVectorizer"
   ]
  },
  {
   "cell_type": "code",
   "execution_count": 2,
   "metadata": {},
   "outputs": [],
   "source": [
    "dataset = load_dataset(\"sst\",trust_remote_code=True)"
   ]
  },
  {
   "cell_type": "code",
   "execution_count": 3,
   "metadata": {},
   "outputs": [
    {
     "data": {
      "text/plain": [
       "DatasetDict({\n",
       "    train: Dataset({\n",
       "        features: ['sentence', 'label', 'tokens', 'tree'],\n",
       "        num_rows: 8544\n",
       "    })\n",
       "    validation: Dataset({\n",
       "        features: ['sentence', 'label', 'tokens', 'tree'],\n",
       "        num_rows: 1101\n",
       "    })\n",
       "    test: Dataset({\n",
       "        features: ['sentence', 'label', 'tokens', 'tree'],\n",
       "        num_rows: 2210\n",
       "    })\n",
       "})"
      ]
     },
     "execution_count": 3,
     "metadata": {},
     "output_type": "execute_result"
    }
   ],
   "source": [
    "dataset\n"
   ]
  },
  {
   "cell_type": "markdown",
   "metadata": {},
   "source": [
    "## Overview of the Dataset  \n",
    "\n",
    "The **Stanford Sentiment Treebank (SST)** dataset consists of movie reviews with sentiment annotations. It is structured as follows:  \n",
    "\n",
    "| Split       | Number of Samples | Features Available |\n",
    "|------------|------------------|-------------------|\n",
    "| **Train**      | 8,544             | `sentence`, `label`, `tokens`, `tree` |\n",
    "| **Validation** | 1,101             | `sentence`, `label`, `tokens`, `tree` |\n",
    "| **Test**       | 2,210             | `sentence`, `label`, `tokens`, `tree` |\n",
    "\n",
    "### Features Description:  \n",
    "- **`sentence`**: The text of the movie review.  \n",
    "- **`label`**: A sentiment score (ranging from **0 to 1**).  \n",
    "- **`tokens`**: Tokenized words of the sentence.  \n",
    "- **`tree`**: Syntactic tree structure (not required for this task).  \n"
   ]
  },
  {
   "cell_type": "code",
   "execution_count": 4,
   "metadata": {},
   "outputs": [
    {
     "name": "stdout",
     "output_type": "stream",
     "text": [
      "+-------+-------------------------------------------------------------------------------------------------------------------------------------------------------------------------------------------------------------------------------------+-----------------+\n",
      "| Index |                                                                                                               Sentence                                                                                                              | Sentiment Score |\n",
      "+-------+-------------------------------------------------------------------------------------------------------------------------------------------------------------------------------------------------------------------------------------+-----------------+\n",
      "|   0   |                        The Rock is destined to be the 21st Century 's new `` Conan '' and that he 's going to make a splash even greater than Arnold Schwarzenegger , Jean-Claud Van Damme or Steven Segal .                        |      0.694      |\n",
      "|   1   | The gorgeously elaborate continuation of `` The Lord of the Rings '' trilogy is so huge that a column of words can not adequately describe co-writer\\/director Peter Jackson 's expanded vision of J.R.R. Tolkien 's Middle-earth . |      0.833      |\n",
      "|   2   |          Singer\\/composer Bryan Adams contributes a slew of songs -- a few potential hits , a few more simply intrusive to the story -- but the whole package certainly captures the intended , er , spirit of the piece .          |      0.625      |\n",
      "|   3   |                                                                 You 'd think by now America would have had enough of plucky British eccentrics with hearts of gold .                                                                |       0.5       |\n",
      "|   4   |                                                                                                 Yet the act is still charming here .                                                                                                |      0.722      |\n",
      "|   5   |                                  Whether or not you 're enlightened by any of Derrida 's lectures on `` the other '' and `` the self , '' Derrida is an undeniably fascinating and playful fellow .                                 |      0.833      |\n",
      "|   6   |                                                  Just the labour involved in creating the layered richness of the imagery in this chiaroscuro of madness and light is astonishing .                                                 |      0.875      |\n",
      "|   7   |                                                                      Part of the charm of Satin Rouge is that it avoids the obvious with humour and lightness .                                                                     |      0.722      |\n",
      "|   8   |                                                                                     a screenplay more ingeniously constructed than `` Memento ''                                                                                    |      0.833      |\n",
      "|   9   |                                                                                               `` Extreme Ops '' exceeds expectations .                                                                                              |      0.736      |\n",
      "+-------+-------------------------------------------------------------------------------------------------------------------------------------------------------------------------------------------------------------------------------------+-----------------+\n"
     ]
    }
   ],
   "source": [
    "# Convert to a list of dictionaries for easier handling\n",
    "data_samples = dataset['train'][:10]  # Fetch first 10 samples\n",
    "\n",
    "# Create a PrettyTable instance\n",
    "table = PrettyTable()\n",
    "table.field_names = [\"Index\", \"Sentence\", \"Sentiment Score\"]\n",
    "\n",
    "# Add rows to the table\n",
    "for i, (sentence, score) in enumerate(zip(data_samples['sentence'], data_samples['label'])):\n",
    "    table.add_row([i, sentence, round(score, 3)])\n",
    "\n",
    "# Print the table\n",
    "print(table)"
   ]
  },
  {
   "cell_type": "code",
   "execution_count": 5,
   "metadata": {},
   "outputs": [
    {
     "name": "stdout",
     "output_type": "stream",
     "text": [
      "DatasetDict({\n",
      "    train: Dataset({\n",
      "        features: ['sentence', 'label'],\n",
      "        num_rows: 8544\n",
      "    })\n",
      "    validation: Dataset({\n",
      "        features: ['sentence', 'label'],\n",
      "        num_rows: 1101\n",
      "    })\n",
      "    test: Dataset({\n",
      "        features: ['sentence', 'label'],\n",
      "        num_rows: 2210\n",
      "    })\n",
      "})\n"
     ]
    }
   ],
   "source": [
    "# Remove 'tokens' and 'tree' columns from all splits\n",
    "dataset = dataset.remove_columns(['tokens', 'tree'])\n",
    "\n",
    "# Display the updated dataset structure\n",
    "print(dataset)\n"
   ]
  },
  {
   "cell_type": "code",
   "execution_count": 6,
   "metadata": {},
   "outputs": [
    {
     "name": "stdout",
     "output_type": "stream",
     "text": [
      "\n",
      "Before Cleaning\n",
      "\n",
      "+-------+-------------------------------------------------------------------------------------------------------------------------------------------------------------------------------------------------------------------------------------+-----------------+\n",
      "| Index |                                                                                                               Sentence                                                                                                              | Sentiment Score |\n",
      "+-------+-------------------------------------------------------------------------------------------------------------------------------------------------------------------------------------------------------------------------------------+-----------------+\n",
      "|   0   |                        The Rock is destined to be the 21st Century 's new `` Conan '' and that he 's going to make a splash even greater than Arnold Schwarzenegger , Jean-Claud Van Damme or Steven Segal .                        |      0.694      |\n",
      "|   1   | The gorgeously elaborate continuation of `` The Lord of the Rings '' trilogy is so huge that a column of words can not adequately describe co-writer\\/director Peter Jackson 's expanded vision of J.R.R. Tolkien 's Middle-earth . |      0.833      |\n",
      "|   2   |          Singer\\/composer Bryan Adams contributes a slew of songs -- a few potential hits , a few more simply intrusive to the story -- but the whole package certainly captures the intended , er , spirit of the piece .          |      0.625      |\n",
      "|   3   |                                                                 You 'd think by now America would have had enough of plucky British eccentrics with hearts of gold .                                                                |       0.5       |\n",
      "|   4   |                                                                                                 Yet the act is still charming here .                                                                                                |      0.722      |\n",
      "+-------+-------------------------------------------------------------------------------------------------------------------------------------------------------------------------------------------------------------------------------------+-----------------+\n",
      "\n",
      "After Cleaning\n",
      "\n",
      "+-------+---------------------------------------------------------------------------------------------------------------------------------------------------------------------------------------------------------------+-----------------+\n",
      "| Index |                                                                                                    Sentence                                                                                                   | Sentiment Score |\n",
      "+-------+---------------------------------------------------------------------------------------------------------------------------------------------------------------------------------------------------------------+-----------------+\n",
      "|   0   |                     the rock is destined to be the 21st century new conanand that he is going to make a splash even greater than arnold schwarzenegger jeanclaud van damme or steven segal                    |      0.694      |\n",
      "|   1   | the gorgeously elaborate continuation of the lord of the ringstrilogy is so huge that a column of words can not adequately describe cowriterdirector peter jackson expanded vision of jrr tolkien middleearth |      0.833      |\n",
      "|   2   |       singercomposer bryan adams contributes a slew of songs a few potential hits a few more simply intrusive to the story but the whole package certainly captures the intended er spirit of the piece       |      0.625      |\n",
      "|   3   |                                                     you would think by now america would have had enough of plucky british eccentrics with hearts of gold                                                     |       0.5       |\n",
      "|   4   |                                                                                       yet the act is still charming here                                                                                      |      0.722      |\n",
      "+-------+---------------------------------------------------------------------------------------------------------------------------------------------------------------------------------------------------------------+-----------------+\n"
     ]
    }
   ],
   "source": [
    "def clean_text(text):\n",
    "    \"\"\"Normalize text: fix spacing, expand contractions, remove possessives, and clean punctuation.\"\"\"\n",
    "\n",
    "    # Remove spaces around apostrophes first (e.g., \"he 's\" → \"he's\")\n",
    "    text = re.sub(r\"\\s*'\\s*\", \"'\", text)\n",
    "\n",
    "    # Expand contractions (e.g., \"he's\" → \"he is\", \"can't\" → \"cannot\")\n",
    "    text = contractions.fix(text)\n",
    "\n",
    "    # Remove possessive 's correctly (e.g., \"century's\" → \"century\", but keeps \"it's\" → \"it is\")\n",
    "    text = re.sub(r\"\\b(\\w+)'s\\b\", r\"\\1\", text)  \n",
    "\n",
    "    # Remove all types of quotes (`` '' \"\" “ ” ‘ ’) while keeping valid apostrophes\n",
    "    text = re.sub(r\"[\\\"`'“”‘’]+\", \"\", text)\n",
    "\n",
    "    # Insert spaces before capital letters in merged words (e.g., \"coWriter\" → \"co Writer\")\n",
    "    text = re.sub(r'([a-z])([A-Z])', r'\\1 \\2', text)\n",
    "\n",
    "    # Insert spaces before numbers in merged words (e.g., \"song1999\" → \"song 1999\")\n",
    "    text = re.sub(r'([a-zA-Z])(\\d)', r'\\1 \\2', text)\n",
    "\n",
    "    # Remove special characters except valid ones (letters, numbers, spaces)\n",
    "    text = re.sub(r'[^a-zA-Z0-9\\s]', '', text)\n",
    "\n",
    "    # Remove extra spaces caused by cleaning\n",
    "    text = re.sub(r'\\s+', ' ', text).strip()\n",
    "\n",
    "    return text.lower()\n",
    "\n",
    "def clean_dataset(dataset):\n",
    "    \"\"\"Apply text cleaning to all splits (train, validation, test).\"\"\"\n",
    "    cleaned_splits = {}\n",
    "\n",
    "    for split in dataset.keys():\n",
    "        # Convert to DataFrame\n",
    "        df = pd.DataFrame(dataset[split])\n",
    "\n",
    "        # Remove duplicates and missing values\n",
    "        df = df.drop_duplicates().dropna()\n",
    "\n",
    "        # Clean sentence text\n",
    "        df['sentence'] = df['sentence'].apply(clean_text)\n",
    "\n",
    "        # Convert back to Hugging Face Dataset format\n",
    "        cleaned_splits[split] = dataset[split].from_pandas(df)\n",
    "\n",
    "    return cleaned_splits\n",
    "\n",
    "def display_samples(dataset, split, title=\"Dataset Samples\"):\n",
    "    \"\"\"Displays the first 5 samples of a dataset split using PrettyTable.\"\"\"\n",
    "    table = PrettyTable()\n",
    "    table.field_names = [\"Index\", \"Sentence\", \"Sentiment Score\"]\n",
    "    \n",
    "    # Fetch first 5 samples\n",
    "    for i, (sentence, score) in enumerate(zip(dataset[split]['sentence'][:5], dataset[split]['label'][:5])):\n",
    "        table.add_row([i, sentence, round(score, 3)])\n",
    "\n",
    "    print(f\"\\n{title}\\n\")\n",
    "    print(table)\n",
    "\n",
    "# Show Before Cleaning\n",
    "display_samples(dataset, 'train', \"Before Cleaning\")\n",
    "\n",
    "# Apply Cleaning\n",
    "dataset = clean_dataset(dataset)\n",
    "\n",
    "# Show After Cleaning\n",
    "display_samples(dataset, 'train', \"After Cleaning\")\n"
   ]
  },
  {
   "cell_type": "code",
   "execution_count": 7,
   "metadata": {},
   "outputs": [
    {
     "name": "stdout",
     "output_type": "stream",
     "text": [
      "\n",
      "Training Set (Size: 8534 samples):\n",
      "\n",
      "+-------+---------------------------------------------------------------------------------------------------------------------------------------------------------------------------------------------------------------+--------------------+\n",
      "| Index |                                                                                                    Sentence                                                                                                   |  Sentiment Score   |\n",
      "+-------+---------------------------------------------------------------------------------------------------------------------------------------------------------------------------------------------------------------+--------------------+\n",
      "|   0   |                     the rock is destined to be the 21st century new conanand that he is going to make a splash even greater than arnold schwarzenegger jeanclaud van damme or steven segal                    | 0.6944400072097778 |\n",
      "|   1   | the gorgeously elaborate continuation of the lord of the ringstrilogy is so huge that a column of words can not adequately describe cowriterdirector peter jackson expanded vision of jrr tolkien middleearth | 0.833329975605011  |\n",
      "|   2   |       singercomposer bryan adams contributes a slew of songs a few potential hits a few more simply intrusive to the story but the whole package certainly captures the intended er spirit of the piece       |       0.625        |\n",
      "|   3   |                                                     you would think by now america would have had enough of plucky british eccentrics with hearts of gold                                                     |        0.5         |\n",
      "|   4   |                                                                                       yet the act is still charming here                                                                                      | 0.7222200036048889 |\n",
      "+-------+---------------------------------------------------------------------------------------------------------------------------------------------------------------------------------------------------------------+--------------------+\n",
      "\n",
      "Validation Set (Size: 1100 samples):\n",
      "\n",
      "+-------+------------------------------------------------------------------------------------------------------------------------------------------+--------------------+\n",
      "| Index |                                                                 Sentence                                                                 |  Sentiment Score   |\n",
      "+-------+------------------------------------------------------------------------------------------------------------------------------------------+--------------------+\n",
      "|   0   |                                     it is a lovely film with lovely performances by buy and accorsi                                      | 0.791670024394989  |\n",
      "|   1   |                                        no one goes unindicted here which is probably for the best                                        | 0.5138900279998779 |\n",
      "|   2   |                   and if you are not nearly moved to tears by a couple of scenes you have got ice water in your veins                    | 0.7638900279998779 |\n",
      "|   3   |                                                        a warm funny engaging film                                                        | 0.8888900279998779 |\n",
      "|   4   | uses sharp humor and insight into human nature to examine class conflict adolescent yearning the roots of friendship and sexual identity | 0.8055599927902222 |\n",
      "+-------+------------------------------------------------------------------------------------------------------------------------------------------+--------------------+\n",
      "\n",
      "Test Set (Size: 2210 samples):\n",
      "\n",
      "+-------+---------------------------------------------------------------------------------------------------------------------------------------+--------------------+\n",
      "| Index |                                                                Sentence                                                               |  Sentiment Score   |\n",
      "+-------+---------------------------------------------------------------------------------------------------------------------------------------+--------------------+\n",
      "|   0   |                                                     effective but tootepid biopic                                                     | 0.5138900279998779 |\n",
      "|   1   |                         if you sometimes like to go to the movies to have fun wasabi is a good place to start                         | 0.7361099720001221 |\n",
      "|   2   |              emerges as something rare an issue movie that is so honest and keenly observed that it does nt feel like one             | 0.8611099720001221 |\n",
      "|   3   | the film provides some great insight into the neurotic mindset of all comics even those who have reached the absolute top of the game | 0.5972200036048889 |\n",
      "|   4   |                                      offers that rare combination of entertainment and education                                      | 0.833329975605011  |\n",
      "+-------+---------------------------------------------------------------------------------------------------------------------------------------+--------------------+\n"
     ]
    }
   ],
   "source": [
    "# Convert cleaned dataset to Pandas DataFrames\n",
    "training_set = pd.DataFrame(dataset['train'])\n",
    "validation_set = pd.DataFrame(dataset['validation'])\n",
    "test_set = pd.DataFrame(dataset['test'])\n",
    "\n",
    "# Function to display samples using PrettyTable\n",
    "def display_the_samples(df, title, num_samples=5):\n",
    "    table = PrettyTable()\n",
    "    table.field_names = [\"Index\", \"Sentence\", \"Sentiment Score\"]\n",
    "    \n",
    "    for i in range(min(num_samples, len(df))):\n",
    "        table.add_row([i, df.iloc[i][\"sentence\"], df.iloc[i][\"label\"]])\n",
    "    \n",
    "    print(f\"\\n{title} (Size: {len(df)} samples):\\n\")\n",
    "    print(table)\n",
    "\n",
    "# Display first 5 samples from each set along with dataset size\n",
    "display_the_samples(training_set, \"Training Set\")\n",
    "display_the_samples(validation_set, \"Validation Set\")\n",
    "display_the_samples(test_set, \"Test Set\")\n"
   ]
  },
  {
   "cell_type": "markdown",
   "metadata": {},
   "source": [
    "## Sentiment Label Mapping\n",
    "\n",
    "This code maps the continuous sentiment scores (ranging from 0 to 1) into five discrete sentiment classes:\n",
    "\n",
    "### **Label Mapping Function**\n",
    "The function `map_label(label)` categorizes sentiment scores into five classes:\n",
    "- **0 (Very Negative)**: Scores between **0** and **0.2**.\n",
    "- **1 (Negative)**: Scores between **0.2** and **0.4**.\n",
    "- **2 (Neutral)**: Scores between **0.4** and **0.6** .\n",
    "- **3 (Positive)**: Scores between **0.6** and **0.8** .\n",
    "- **4 (Very Positive)**: Scores between **0.8** and **1.0** .\n"
   ]
  },
  {
   "cell_type": "code",
   "execution_count": 8,
   "metadata": {},
   "outputs": [
    {
     "name": "stdout",
     "output_type": "stream",
     "text": [
      "\n",
      "Training Set (Size: 8534 samples):\n",
      "\n",
      "+-------+---------------------------------------------------------------------------------------------------------------------------------------------------------------------------------------------------------------+-----------------+\n",
      "| Index |                                                                                                    Sentence                                                                                                   | Sentiment Score |\n",
      "+-------+---------------------------------------------------------------------------------------------------------------------------------------------------------------------------------------------------------------+-----------------+\n",
      "|   0   |                     the rock is destined to be the 21st century new conanand that he is going to make a splash even greater than arnold schwarzenegger jeanclaud van damme or steven segal                    |        3        |\n",
      "|   1   | the gorgeously elaborate continuation of the lord of the ringstrilogy is so huge that a column of words can not adequately describe cowriterdirector peter jackson expanded vision of jrr tolkien middleearth |        4        |\n",
      "|   2   |       singercomposer bryan adams contributes a slew of songs a few potential hits a few more simply intrusive to the story but the whole package certainly captures the intended er spirit of the piece       |        3        |\n",
      "|   3   |                                                     you would think by now america would have had enough of plucky british eccentrics with hearts of gold                                                     |        2        |\n",
      "|   4   |                                                                                       yet the act is still charming here                                                                                      |        3        |\n",
      "+-------+---------------------------------------------------------------------------------------------------------------------------------------------------------------------------------------------------------------+-----------------+\n",
      "\n",
      "Validation Set (Size: 1100 samples):\n",
      "\n",
      "+-------+------------------------------------------------------------------------------------------------------------------------------------------+-----------------+\n",
      "| Index |                                                                 Sentence                                                                 | Sentiment Score |\n",
      "+-------+------------------------------------------------------------------------------------------------------------------------------------------+-----------------+\n",
      "|   0   |                                     it is a lovely film with lovely performances by buy and accorsi                                      |        3        |\n",
      "|   1   |                                        no one goes unindicted here which is probably for the best                                        |        2        |\n",
      "|   2   |                   and if you are not nearly moved to tears by a couple of scenes you have got ice water in your veins                    |        3        |\n",
      "|   3   |                                                        a warm funny engaging film                                                        |        4        |\n",
      "|   4   | uses sharp humor and insight into human nature to examine class conflict adolescent yearning the roots of friendship and sexual identity |        4        |\n",
      "+-------+------------------------------------------------------------------------------------------------------------------------------------------+-----------------+\n",
      "\n",
      "Test Set (Size: 2210 samples):\n",
      "\n",
      "+-------+---------------------------------------------------------------------------------------------------------------------------------------+-----------------+\n",
      "| Index |                                                                Sentence                                                               | Sentiment Score |\n",
      "+-------+---------------------------------------------------------------------------------------------------------------------------------------+-----------------+\n",
      "|   0   |                                                     effective but tootepid biopic                                                     |        2        |\n",
      "|   1   |                         if you sometimes like to go to the movies to have fun wasabi is a good place to start                         |        3        |\n",
      "|   2   |              emerges as something rare an issue movie that is so honest and keenly observed that it does nt feel like one             |        4        |\n",
      "|   3   | the film provides some great insight into the neurotic mindset of all comics even those who have reached the absolute top of the game |        2        |\n",
      "|   4   |                                      offers that rare combination of entertainment and education                                      |        4        |\n",
      "+-------+---------------------------------------------------------------------------------------------------------------------------------------+-----------------+\n"
     ]
    }
   ],
   "source": [
    "def map_label(label):\n",
    "    if label >=0  and label <= 0.2:\n",
    "        return 0  # Very Negative\n",
    "    elif label <= 0.4:\n",
    "        return 1  # Negative\n",
    "    elif label <= 0.6:\n",
    "        return 2  # Neutral\n",
    "    elif label <= 0.8:\n",
    "        return 3  # Positive\n",
    "    else:\n",
    "        return 4  # Very Positive\n",
    "    \n",
    "training_set['label'] = training_set['label'].apply(map_label)\n",
    "validation_set['label'] = validation_set['label'].apply(map_label)\n",
    "test_set['label'] = test_set['label'].apply(map_label)\n",
    "\n",
    "display_the_samples(training_set, \"Training Set\")\n",
    "display_the_samples(validation_set, \"Validation Set\")\n",
    "display_the_samples(test_set, \"Test Set\")\n"
   ]
  },
  {
   "cell_type": "code",
   "execution_count": 9,
   "metadata": {},
   "outputs": [
    {
     "name": "stdout",
     "output_type": "stream",
     "text": [
      "+----------------+-----------------+--------------+\n",
      "|    Dataset     | Sentences Shape | Labels Shape |\n",
      "+----------------+-----------------+--------------+\n",
      "|  Training Set  |     (8534,)     |   (8534,)    |\n",
      "| Validation Set |     (1100,)     |   (1100,)    |\n",
      "|    Test Set    |     (2210,)     |   (2210,)    |\n",
      "+----------------+-----------------+--------------+\n"
     ]
    }
   ],
   "source": [
    "# Convert datasets to NumPy arrays\n",
    "train_sentences = np.array(training_set['sentence'])\n",
    "train_labels = np.array(training_set['label'])\n",
    "\n",
    "val_sentences = np.array(validation_set['sentence'])\n",
    "val_labels = np.array(validation_set['label'])\n",
    "\n",
    "test_sentences = np.array(test_set['sentence'])\n",
    "test_labels = np.array(test_set['label'])\n",
    "\n",
    "# Create a PrettyTable\n",
    "table = PrettyTable()\n",
    "table.field_names = [\"Dataset\", \"Sentences Shape\", \"Labels Shape\"]\n",
    "\n",
    "# Add dataset details\n",
    "table.add_row([\"Training Set\", train_sentences.shape, train_labels.shape])\n",
    "table.add_row([\"Validation Set\", val_sentences.shape, val_labels.shape])\n",
    "table.add_row([\"Test Set\", test_sentences.shape, test_labels.shape])\n",
    "\n",
    "# Print the table\n",
    "print(table)\n"
   ]
  },
  {
   "cell_type": "code",
   "execution_count": 11,
   "metadata": {},
   "outputs": [
    {
     "name": "stderr",
     "output_type": "stream",
     "text": [
      "C:\\Users\\ADMIN\\AppData\\Local\\Temp\\ipykernel_18192\\4174154056.py:4: FutureWarning: \n",
      "\n",
      "Passing `palette` without assigning `hue` is deprecated and will be removed in v0.14.0. Assign the `x` variable to `hue` and set `legend=False` for the same effect.\n",
      "\n",
      "  sns.countplot(x=train['label'], palette='Blues', ax=axes[0])\n",
      "C:\\Users\\ADMIN\\AppData\\Local\\Temp\\ipykernel_18192\\4174154056.py:9: FutureWarning: \n",
      "\n",
      "Passing `palette` without assigning `hue` is deprecated and will be removed in v0.14.0. Assign the `x` variable to `hue` and set `legend=False` for the same effect.\n",
      "\n",
      "  sns.countplot(x=val['label'], palette='Blues', ax=axes[1])\n",
      "C:\\Users\\ADMIN\\AppData\\Local\\Temp\\ipykernel_18192\\4174154056.py:14: FutureWarning: \n",
      "\n",
      "Passing `palette` without assigning `hue` is deprecated and will be removed in v0.14.0. Assign the `x` variable to `hue` and set `legend=False` for the same effect.\n",
      "\n",
      "  sns.countplot(x=test['label'], palette='Blues', ax=axes[2])\n"
     ]
    },
    {
     "data": {
      "image/png": "[encoded data removed]",
      "text/plain": [
       "<Figure size 1800x500 with 3 Axes>"
      ]
     },
     "metadata": {},
     "output_type": "display_data"
    }
   ],
   "source": [
    "def plot_label_distributions(train, val, test):\n",
    "    fig, axes = plt.subplots(1, 3, figsize=(18, 5))  # 1 row, 3 columns\n",
    "\n",
    "    sns.countplot(x=train['label'], palette='Blues', ax=axes[0])\n",
    "    axes[0].set_title(\"Training Set Label Distribution\")\n",
    "    axes[0].set_xlabel(\"Labels\")\n",
    "    axes[0].set_ylabel(\"Frequency\")\n",
    "\n",
    "    sns.countplot(x=val['label'], palette='Blues', ax=axes[1])\n",
    "    axes[1].set_title(\"Validation Set Label Distribution\")\n",
    "    axes[1].set_xlabel(\"Labels\")\n",
    "    axes[1].set_ylabel(\"Frequency\")\n",
    "\n",
    "    sns.countplot(x=test['label'], palette='Blues', ax=axes[2])\n",
    "    axes[2].set_title(\"Test Set Label Distribution\")\n",
    "    axes[2].set_xlabel(\"Labels\")\n",
    "    axes[2].set_ylabel(\"Frequency\")\n",
    "\n",
    "    plt.tight_layout()  # Adjust layout to prevent overlapping\n",
    "    plt.show()\n",
    "\n",
    "# Call the function to plot\n",
    "plot_label_distributions(training_set, validation_set, test_set)\n"
   ]
  },
  {
   "cell_type": "markdown",
   "metadata": {},
   "source": [
    "### Observations:\n",
    "- The dataset is relatively imbalanced, with some classes having significantly more samples than others.\n",
    "- Class 1 (Negative) and Class 3 (Positive) are more frequent across all sets, while Class 0 (Very Negative) and Class 4 (Very Positive) have fewer samples.\n",
    "- The distribution in the validation and test sets follows a similar pattern to the training set, ensuring consistency.\n",
    "\n",
    "This imbalance may impact model performance, requiring techniques such as class weighting, oversampling, or data augmentation to improve results."
   ]
  },
  {
   "cell_type": "markdown",
   "metadata": {},
   "source": [
    "## Model Evaluation: Precision, Recall, and F1 Score Calculation  \n",
    "\n",
    "This section outlines the implementation of performance evaluation metrics for a classification model, including **Precision**, **Recall**, **F1 Score**, and **Confusion Matrix** calculations.\n",
    "\n",
    "### 1. **Confusion Matrix Calculation**  \n",
    "A **confusion matrix** is created using the `confusion_matrix_scratch` function, which computes a **num_classes × num_classes** matrix, where:  \n",
    "- Rows represent the **actual (true) labels**  \n",
    "- Columns represent the **predicted labels**  \n",
    "- Each cell **(i, j)** indicates the number of times a true class **i** was predicted as class **j**  \n",
    "\n",
    "The confusion matrix helps visualize model performance by showing **correct and incorrect predictions** across all classes.\n",
    "\n",
    "### 2. **Precision, Recall, and F1 Score Computation**  \n",
    "The function `calculate_precision_recall_f1(cm)` computes precision, recall, and F1 score for each class using the confusion matrix.  \n",
    "\n",
    "#### **Precision (Positive Predictive Value)**\n",
    "Precision measures how many of the predicted positive instances were actually correct:  \n",
    "$$ Precision = \\frac{TP}{TP + FP} $$  \n",
    "Where:  \n",
    "- **TP** (True Positives): Correctly predicted instances of a class  \n",
    "- **FP** (False Positives): Instances incorrectly classified as the class  \n",
    "\n",
    "#### **Recall (Sensitivity or True Positive Rate)**\n",
    "Recall measures how many actual positive instances were correctly predicted:  \n",
    "$$ Recall = \\frac{TP}{TP + FN} $$  \n",
    "Where:  \n",
    "- **FN** (False Negatives): Actual instances of a class that were incorrectly predicted as another class  \n",
    "\n",
    "#### **F1 Score (Harmonic Mean of Precision & Recall)**\n",
    "F1 Score balances Precision and Recall, providing a single performance metric:  \n",
    "$$ F1 = \\frac{2 \\times Precision \\times Recall}{Precision + Recall} $$  \n",
    "It ensures that both false positives and false negatives are considered.\n",
    "\n",
    "### 3. **Macro-Averaged Precision, Recall, and F1 Score**\n",
    "To summarize model performance across all classes, the **macro-averaged** values are computed as:  \n",
    "$$ MacroPrecision = \\frac{1}{N} \\sum_{i=1}^{N} Precision_i $$  \n",
    "$$ MacroRecall = \\frac{1}{N} \\sum_{i=1}^{N} Recall_i $$  \n",
    "$$ MacroF1 = \\frac{1}{N} \\sum_{i=1}^{N} F1_i $$  \n",
    "Where **N** is the number of classes.\n",
    "\n",
    "### 4. **Confusion Matrix Visualization**\n",
    "The function `plot_confusion_matrix(conf_matrix, num_classes)` uses a **heatmap** to visualize the confusion matrix, making it easier to interpret model performance.\n",
    "\n",
    "### 5. **Evaluation Function**\n",
    "The `evaluate_model_scratch` function:\n",
    "1. Computes the **confusion matrix**  \n",
    "2. Plots the **heatmap** of the confusion matrix  \n",
    "3. Computes and prints **precision, recall, and F1 score**  \n",
    "4. Displays **macro-averaged metrics** for overall performance  \n",
    "\n",
    "### **Conclusion**\n",
    "This method enables a **detailed performance analysis** of classification models, identifying strengths and weaknesses in specific classes and ensuring fair model evaluation.\n"
   ]
  },
  {
   "cell_type": "code",
   "execution_count": 13,
   "metadata": {},
   "outputs": [],
   "source": [
    "def calculate_precision_recall_f1(cm):\n",
    "  num_classes = cm.shape[0]\n",
    "  precisions = []\n",
    "  recalls = []\n",
    "  f1_scores = []\n",
    "\n",
    "  for i in range(num_classes):\n",
    "    tp = cm[i, i]\n",
    "    fp = np.sum(cm[:, i]) - tp\n",
    "    fn = np.sum(cm[i, :]) - tp\n",
    "\n",
    "    precision = tp / (tp + fp) if (tp + fp) > 0 else 0\n",
    "    recall = tp / (tp + fn) if (tp + fn) > 0 else 0\n",
    "    f1 = (2 * precision * recall) / (precision + recall) if (precision + recall) > 0 else 0\n",
    "\n",
    "    precisions.append(precision)\n",
    "    recalls.append(recall)\n",
    "    f1_scores.append(f1)\n",
    "\n",
    "  macro_precision = np.mean(precisions)\n",
    "  macro_recall = np.mean(recalls)\n",
    "  macro_f1 = np.mean(f1_scores)\n",
    "\n",
    "  results = {\n",
    "      \"precision_per_class\": precisions,\n",
    "      \"recall_per_class\": recalls,\n",
    "      \"f1_per_class\": f1_scores,\n",
    "      \"macro_precision\": macro_precision,\n",
    "      \"macro_recall\": macro_recall,\n",
    "      \"macro_f1\": macro_f1,\n",
    "  }\n",
    "\n",
    "  return results\n",
    "\n",
    "def confusion_matrix_scratch(y_true, y_pred, num_classes):\n",
    "  cm = np.zeros((num_classes, num_classes), dtype=int)\n",
    "  for true_label, pred_label in zip(y_true, y_pred):\n",
    "    cm[true_label, pred_label] += 1\n",
    "  return cm\n",
    "\n",
    "def print_metrics(results):\n",
    "    num_classes = len(results[\"precision_per_class\"])\n",
    "    \n",
    "    print(\"Class-wise Metrics:\")\n",
    "    for i in range(num_classes):\n",
    "        print(f\"Class {i}:\")\n",
    "        print(f\"Precision: {results['precision_per_class'][i]:.2f}  Recall: {results['recall_per_class'][i]:.2f}  F1 Score: {results['f1_per_class'][i]:.2f}\")\n",
    "        print()\n",
    "    \n",
    "    print(\"Macro-Averaged Metrics:\")\n",
    "    print(f\"Macro Precision: {results['macro_precision']:.2f}  Macro Recall: {results['macro_recall']:.2f}  Macro F1 Score: {results['macro_f1']:.2f}\")\n",
    "\n",
    "\n",
    "def plot_confusion_matrix(conf_matrix, num_classes):\n",
    "    plt.figure(figsize=(5, 5))\n",
    "    sns.heatmap(conf_matrix, annot=True, fmt='d', cmap='Blues', xticklabels=range(num_classes), yticklabels=range(num_classes))\n",
    "    plt.xlabel('Predicted')\n",
    "    plt.ylabel('True')\n",
    "    plt.title('Confusion Matrix')\n",
    "    plt.show()\n",
    "    \n",
    "\n",
    "def evaluate_model_scratch(test_labels, model_predictions, num_classes,model_name):\n",
    "    \n",
    "    cm_scratch = confusion_matrix_scratch(test_labels, model_predictions, num_classes)\n",
    "    print(f'The confusion matrix ({model_name}):')\n",
    "    \n",
    "    plot_confusion_matrix(cm_scratch, num_classes)\n",
    "    \n",
    "    metrics_scratch = calculate_precision_recall_f1(cm_scratch)\n",
    "    \n",
    "    print(f'The Metrics of ({model_name}):')\n",
    "    print_metrics(metrics_scratch)"
   ]
  },
  {
   "cell_type": "code",
   "execution_count": 21,
   "metadata": {},
   "outputs": [],
   "source": [
    "class LogisticRegression:\n",
    "    def __init__(self, learning_rate=0.01, num_of_iterations=100, batch_size=32):\n",
    "        self.learning_rate = learning_rate\n",
    "        self.num_of_iterations = num_of_iterations\n",
    "        self.weights = None\n",
    "        self.bias = None\n",
    "        self.bigrams = {}\n",
    "        self.num_of_features = 0\n",
    "        self.num_of_classes = 0\n",
    "        self.batch_size = batch_size\n",
    "        self.class_weights = None\n",
    "\n",
    "    def get_bigrams(self, X):\n",
    "        bigrams = {}\n",
    "        for sentence in X:\n",
    "            words = sentence.split()\n",
    "            for i in range(len(words) - 1):\n",
    "                bigram = (words[i], words[i + 1])\n",
    "                if bigram not in bigrams:\n",
    "                    bigrams[bigram] = len(bigrams)\n",
    "        return bigrams\n",
    "\n",
    "    def vectorize_sentence(self, X):\n",
    "        X_vectorized = np.zeros((len(X), len(self.bigrams)), dtype=bool)\n",
    "        for i, sentence in enumerate(X):\n",
    "            words = sentence.split()\n",
    "            for j in range(len(words) - 1):\n",
    "                bigram = (words[j], words[j + 1])\n",
    "                if bigram in self.bigrams:\n",
    "                    X_vectorized[i][self.bigrams[bigram]] = True\n",
    "        return X_vectorized\n",
    "\n",
    "    def softmax(self, z):\n",
    "        exp_z = np.exp(z - np.max(z, axis=1, keepdims=True))\n",
    "        return exp_z / np.sum(exp_z, axis=1, keepdims=True)\n",
    "\n",
    "    def multiclass_cross_entropy_loss(self, y_pred , y):\n",
    "        y_one_hot = np.zeros((len(y), self.num_of_classes))\n",
    "        y_one_hot[np.arange(len(y)), y] = 1\n",
    "        \n",
    "        # Reshape class weights to (batch_size, 1) for proper broadcasting\n",
    "        class_weights = self.class_weights[y].reshape(-1, 1)\n",
    "        \n",
    "        loss = -np.sum(class_weights * y_one_hot * np.log(y_pred)) / len(y)\n",
    "        return loss\n",
    "\n",
    "\n",
    "    def compute_class_weights(self, y):\n",
    "        unique_classes, counts = np.unique(y, return_counts=True)\n",
    "        total_samples = len(y)\n",
    "        self.class_weights = total_samples / (len(unique_classes) * counts)\n",
    "\n",
    "    def gradient_descent(self, X, y_pred, y):\n",
    "        num_of_samples = X.shape[0]\n",
    "\n",
    "        y_one_hot = np.zeros((len(y), self.num_of_classes))\n",
    "        y_one_hot[np.arange(len(y)), y] = 1\n",
    "\n",
    "        weights_adjusted = self.class_weights[y][:, np.newaxis] * (y_pred - y_one_hot)\n",
    "        dw = (1 / num_of_samples) * X.T.dot(weights_adjusted)\n",
    "        db = (1 / num_of_samples) * np.sum(weights_adjusted, axis=0)\n",
    "\n",
    "        self.weights -= self.learning_rate * dw\n",
    "        self.bias -= self.learning_rate * db\n",
    "\n",
    "    def fit(self, X, y):\n",
    "        self.bigrams = self.get_bigrams(X)\n",
    "        self.num_of_features = len(self.bigrams)\n",
    "        X_vectorized = self.vectorize_sentence(X)\n",
    "        self.num_of_classes = len(np.unique(y))\n",
    "        self.compute_class_weights(y)\n",
    "\n",
    "        self.weights = np.zeros((self.num_of_features, self.num_of_classes), dtype=float)\n",
    "        self.bias = np.zeros((1, self.num_of_classes), dtype=float)\n",
    "\n",
    "        for iteration in tqdm(range(self.num_of_iterations), desc=\"Training Progress\", unit=\"epoch\"):\n",
    "            indices = np.random.permutation(len(X))  # Shuffling the data each epoch\n",
    "            X_shuffled = X_vectorized[indices]\n",
    "            y_shuffled = y[indices]\n",
    "\n",
    "            epoch_loss = 0  # To track total loss for the epoch\n",
    "\n",
    "            for i in range(0, len(X_vectorized), self.batch_size):\n",
    "                batch_X = X_shuffled[i:i + self.batch_size]\n",
    "                batch_y = y_shuffled[i:i + self.batch_size]\n",
    "\n",
    "                z = batch_X.dot(self.weights) + self.bias\n",
    "                y_pred = self.softmax(z)\n",
    "\n",
    "                loss = self.multiclass_cross_entropy_loss(y_pred, batch_y)\n",
    "                epoch_loss += loss  # Accumulate loss over batches\n",
    "\n",
    "                self.gradient_descent(batch_X, y_pred, batch_y)\n",
    "\n",
    "            # Print loss every 10 epochs\n",
    "            if (iteration + 1) % 10 == 0:\n",
    "                print(f\"Epoch {iteration + 1}/{self.num_of_iterations}, Loss: {epoch_loss:.4f}\")\n",
    "\n",
    "\n",
    "    def predict(self, X):\n",
    "        X_vectorized = self.vectorize_sentence(X)\n",
    "        z = X_vectorized.dot(self.weights) + self.bias\n",
    "        y_pred = self.softmax(z)\n",
    "        return np.argmax(y_pred, axis=1)\n"
   ]
  },
  {
   "cell_type": "code",
   "execution_count": 22,
   "metadata": {},
   "outputs": [
    {
     "name": "stderr",
     "output_type": "stream",
     "text": [
      "Training Progress:   1%|          | 10/1000 [00:47<1:17:55,  4.72s/epoch]"
     ]
    },
    {
     "name": "stdout",
     "output_type": "stream",
     "text": [
      "Epoch 10/1000, Loss: 416.1691\n"
     ]
    },
    {
     "name": "stderr",
     "output_type": "stream",
     "text": [
      "Training Progress:   2%|▏         | 20/1000 [01:37<1:17:32,  4.75s/epoch]"
     ]
    },
    {
     "name": "stdout",
     "output_type": "stream",
     "text": [
      "Epoch 20/1000, Loss: 402.9434\n"
     ]
    },
    {
     "name": "stderr",
     "output_type": "stream",
     "text": [
      "Training Progress:   3%|▎         | 30/1000 [02:25<1:16:43,  4.75s/epoch]"
     ]
    },
    {
     "name": "stdout",
     "output_type": "stream",
     "text": [
      "Epoch 30/1000, Loss: 390.7406\n"
     ]
    },
    {
     "name": "stderr",
     "output_type": "stream",
     "text": [
      "Training Progress:   4%|▍         | 40/1000 [03:14<1:15:14,  4.70s/epoch]"
     ]
    },
    {
     "name": "stdout",
     "output_type": "stream",
     "text": [
      "Epoch 40/1000, Loss: 379.5330\n"
     ]
    },
    {
     "name": "stderr",
     "output_type": "stream",
     "text": [
      "Training Progress:   5%|▌         | 50/1000 [04:02<1:14:59,  4.74s/epoch]"
     ]
    },
    {
     "name": "stdout",
     "output_type": "stream",
     "text": [
      "Epoch 50/1000, Loss: 369.0354\n"
     ]
    },
    {
     "name": "stderr",
     "output_type": "stream",
     "text": [
      "Training Progress:   6%|▌         | 60/1000 [04:51<1:13:35,  4.70s/epoch]"
     ]
    },
    {
     "name": "stdout",
     "output_type": "stream",
     "text": [
      "Epoch 60/1000, Loss: 359.0741\n"
     ]
    },
    {
     "name": "stderr",
     "output_type": "stream",
     "text": [
      "Training Progress:   7%|▋         | 70/1000 [05:39<1:13:01,  4.71s/epoch]"
     ]
    },
    {
     "name": "stdout",
     "output_type": "stream",
     "text": [
      "Epoch 70/1000, Loss: 349.7211\n"
     ]
    },
    {
     "name": "stderr",
     "output_type": "stream",
     "text": [
      "Training Progress:   8%|▊         | 80/1000 [06:28<1:11:50,  4.69s/epoch]"
     ]
    },
    {
     "name": "stdout",
     "output_type": "stream",
     "text": [
      "Epoch 80/1000, Loss: 340.9223\n"
     ]
    },
    {
     "name": "stderr",
     "output_type": "stream",
     "text": [
      "Training Progress:   9%|▉         | 90/1000 [07:17<1:12:00,  4.75s/epoch]"
     ]
    },
    {
     "name": "stdout",
     "output_type": "stream",
     "text": [
      "Epoch 90/1000, Loss: 332.5558\n"
     ]
    },
    {
     "name": "stderr",
     "output_type": "stream",
     "text": [
      "Training Progress:  10%|█         | 100/1000 [08:06<1:12:24,  4.83s/epoch]"
     ]
    },
    {
     "name": "stdout",
     "output_type": "stream",
     "text": [
      "Epoch 100/1000, Loss: 324.5516\n"
     ]
    },
    {
     "name": "stderr",
     "output_type": "stream",
     "text": [
      "Training Progress:  11%|█         | 110/1000 [08:55<1:14:04,  4.99s/epoch]"
     ]
    },
    {
     "name": "stdout",
     "output_type": "stream",
     "text": [
      "Epoch 110/1000, Loss: 316.9244\n"
     ]
    },
    {
     "name": "stderr",
     "output_type": "stream",
     "text": [
      "Training Progress:  12%|█▏        | 120/1000 [09:43<1:08:44,  4.69s/epoch]"
     ]
    },
    {
     "name": "stdout",
     "output_type": "stream",
     "text": [
      "Epoch 120/1000, Loss: 309.6229\n"
     ]
    },
    {
     "name": "stderr",
     "output_type": "stream",
     "text": [
      "Training Progress:  13%|█▎        | 130/1000 [10:30<1:10:26,  4.86s/epoch]"
     ]
    },
    {
     "name": "stdout",
     "output_type": "stream",
     "text": [
      "Epoch 130/1000, Loss: 302.7463\n"
     ]
    },
    {
     "name": "stderr",
     "output_type": "stream",
     "text": [
      "Training Progress:  14%|█▍        | 140/1000 [11:24<1:14:29,  5.20s/epoch]"
     ]
    },
    {
     "name": "stdout",
     "output_type": "stream",
     "text": [
      "Epoch 140/1000, Loss: 296.0597\n"
     ]
    },
    {
     "name": "stderr",
     "output_type": "stream",
     "text": [
      "Training Progress:  15%|█▌        | 150/1000 [12:20<1:19:57,  5.64s/epoch]"
     ]
    },
    {
     "name": "stdout",
     "output_type": "stream",
     "text": [
      "Epoch 150/1000, Loss: 289.7047\n"
     ]
    },
    {
     "name": "stderr",
     "output_type": "stream",
     "text": [
      "Training Progress:  16%|█▌        | 160/1000 [13:19<1:17:55,  5.57s/epoch]"
     ]
    },
    {
     "name": "stdout",
     "output_type": "stream",
     "text": [
      "Epoch 160/1000, Loss: 283.6172\n"
     ]
    },
    {
     "name": "stderr",
     "output_type": "stream",
     "text": [
      "Training Progress:  17%|█▋        | 170/1000 [14:15<1:15:14,  5.44s/epoch]"
     ]
    },
    {
     "name": "stdout",
     "output_type": "stream",
     "text": [
      "Epoch 170/1000, Loss: 277.7841\n"
     ]
    },
    {
     "name": "stderr",
     "output_type": "stream",
     "text": [
      "Training Progress:  18%|█▊        | 180/1000 [15:10<1:11:45,  5.25s/epoch]"
     ]
    },
    {
     "name": "stdout",
     "output_type": "stream",
     "text": [
      "Epoch 180/1000, Loss: 272.1355\n"
     ]
    },
    {
     "name": "stderr",
     "output_type": "stream",
     "text": [
      "Training Progress:  19%|█▉        | 190/1000 [16:04<1:11:33,  5.30s/epoch]"
     ]
    },
    {
     "name": "stdout",
     "output_type": "stream",
     "text": [
      "Epoch 190/1000, Loss: 266.7170\n"
     ]
    },
    {
     "name": "stderr",
     "output_type": "stream",
     "text": [
      "Training Progress:  20%|██        | 200/1000 [16:58<1:12:55,  5.47s/epoch]"
     ]
    },
    {
     "name": "stdout",
     "output_type": "stream",
     "text": [
      "Epoch 200/1000, Loss: 261.5109\n"
     ]
    },
    {
     "name": "stderr",
     "output_type": "stream",
     "text": [
      "Training Progress:  21%|██        | 210/1000 [17:54<1:16:27,  5.81s/epoch]"
     ]
    },
    {
     "name": "stdout",
     "output_type": "stream",
     "text": [
      "Epoch 210/1000, Loss: 256.4540\n"
     ]
    },
    {
     "name": "stderr",
     "output_type": "stream",
     "text": [
      "Training Progress:  22%|██▏       | 220/1000 [18:53<1:15:32,  5.81s/epoch]"
     ]
    },
    {
     "name": "stdout",
     "output_type": "stream",
     "text": [
      "Epoch 220/1000, Loss: 251.6399\n"
     ]
    },
    {
     "name": "stderr",
     "output_type": "stream",
     "text": [
      "Training Progress:  23%|██▎       | 230/1000 [19:45<1:10:40,  5.51s/epoch]"
     ]
    },
    {
     "name": "stdout",
     "output_type": "stream",
     "text": [
      "Epoch 230/1000, Loss: 246.9859\n"
     ]
    },
    {
     "name": "stderr",
     "output_type": "stream",
     "text": [
      "Training Progress:  24%|██▍       | 240/1000 [20:42<1:09:15,  5.47s/epoch]"
     ]
    },
    {
     "name": "stdout",
     "output_type": "stream",
     "text": [
      "Epoch 240/1000, Loss: 242.5184\n"
     ]
    },
    {
     "name": "stderr",
     "output_type": "stream",
     "text": [
      "Training Progress:  25%|██▌       | 250/1000 [21:42<1:22:17,  6.58s/epoch]"
     ]
    },
    {
     "name": "stdout",
     "output_type": "stream",
     "text": [
      "Epoch 250/1000, Loss: 238.1901\n"
     ]
    },
    {
     "name": "stderr",
     "output_type": "stream",
     "text": [
      "Training Progress:  26%|██▌       | 260/1000 [22:38<1:05:35,  5.32s/epoch]"
     ]
    },
    {
     "name": "stdout",
     "output_type": "stream",
     "text": [
      "Epoch 260/1000, Loss: 233.9331\n"
     ]
    },
    {
     "name": "stderr",
     "output_type": "stream",
     "text": [
      "Training Progress:  27%|██▋       | 270/1000 [23:31<1:03:31,  5.22s/epoch]"
     ]
    },
    {
     "name": "stdout",
     "output_type": "stream",
     "text": [
      "Epoch 270/1000, Loss: 229.8930\n"
     ]
    },
    {
     "name": "stderr",
     "output_type": "stream",
     "text": [
      "Training Progress:  28%|██▊       | 280/1000 [24:21<57:27,  4.79s/epoch]  "
     ]
    },
    {
     "name": "stdout",
     "output_type": "stream",
     "text": [
      "Epoch 280/1000, Loss: 225.9411\n"
     ]
    },
    {
     "name": "stderr",
     "output_type": "stream",
     "text": [
      "Training Progress:  29%|██▉       | 290/1000 [25:08<55:07,  4.66s/epoch]"
     ]
    },
    {
     "name": "stdout",
     "output_type": "stream",
     "text": [
      "Epoch 290/1000, Loss: 222.1651\n"
     ]
    },
    {
     "name": "stderr",
     "output_type": "stream",
     "text": [
      "Training Progress:  30%|███       | 300/1000 [25:54<54:17,  4.65s/epoch]"
     ]
    },
    {
     "name": "stdout",
     "output_type": "stream",
     "text": [
      "Epoch 300/1000, Loss: 218.5436\n"
     ]
    },
    {
     "name": "stderr",
     "output_type": "stream",
     "text": [
      "Training Progress:  31%|███       | 310/1000 [26:41<53:20,  4.64s/epoch]"
     ]
    },
    {
     "name": "stdout",
     "output_type": "stream",
     "text": [
      "Epoch 310/1000, Loss: 214.9854\n"
     ]
    },
    {
     "name": "stderr",
     "output_type": "stream",
     "text": [
      "Training Progress:  32%|███▏      | 320/1000 [27:28<53:25,  4.71s/epoch]"
     ]
    },
    {
     "name": "stdout",
     "output_type": "stream",
     "text": [
      "Epoch 320/1000, Loss: 211.5015\n"
     ]
    },
    {
     "name": "stderr",
     "output_type": "stream",
     "text": [
      "Training Progress:  33%|███▎      | 330/1000 [28:25<1:01:29,  5.51s/epoch]"
     ]
    },
    {
     "name": "stdout",
     "output_type": "stream",
     "text": [
      "Epoch 330/1000, Loss: 208.1968\n"
     ]
    },
    {
     "name": "stderr",
     "output_type": "stream",
     "text": [
      "Training Progress:  34%|███▍      | 340/1000 [29:16<56:35,  5.15s/epoch]  "
     ]
    },
    {
     "name": "stdout",
     "output_type": "stream",
     "text": [
      "Epoch 340/1000, Loss: 204.9239\n"
     ]
    },
    {
     "name": "stderr",
     "output_type": "stream",
     "text": [
      "Training Progress:  35%|███▌      | 350/1000 [30:10<52:46,  4.87s/epoch]  "
     ]
    },
    {
     "name": "stdout",
     "output_type": "stream",
     "text": [
      "Epoch 350/1000, Loss: 201.7564\n"
     ]
    },
    {
     "name": "stderr",
     "output_type": "stream",
     "text": [
      "Training Progress:  36%|███▌      | 360/1000 [30:57<49:36,  4.65s/epoch]"
     ]
    },
    {
     "name": "stdout",
     "output_type": "stream",
     "text": [
      "Epoch 360/1000, Loss: 198.7340\n"
     ]
    },
    {
     "name": "stderr",
     "output_type": "stream",
     "text": [
      "Training Progress:  37%|███▋      | 370/1000 [31:43<49:05,  4.68s/epoch]"
     ]
    },
    {
     "name": "stdout",
     "output_type": "stream",
     "text": [
      "Epoch 370/1000, Loss: 195.7868\n"
     ]
    },
    {
     "name": "stderr",
     "output_type": "stream",
     "text": [
      "Training Progress:  38%|███▊      | 380/1000 [32:30<47:58,  4.64s/epoch]"
     ]
    },
    {
     "name": "stdout",
     "output_type": "stream",
     "text": [
      "Epoch 380/1000, Loss: 192.8773\n"
     ]
    },
    {
     "name": "stderr",
     "output_type": "stream",
     "text": [
      "Training Progress:  39%|███▉      | 390/1000 [33:16<47:08,  4.64s/epoch]"
     ]
    },
    {
     "name": "stdout",
     "output_type": "stream",
     "text": [
      "Epoch 390/1000, Loss: 190.1124\n"
     ]
    },
    {
     "name": "stderr",
     "output_type": "stream",
     "text": [
      "Training Progress:  40%|████      | 400/1000 [34:04<47:42,  4.77s/epoch]"
     ]
    },
    {
     "name": "stdout",
     "output_type": "stream",
     "text": [
      "Epoch 400/1000, Loss: 187.3706\n"
     ]
    },
    {
     "name": "stderr",
     "output_type": "stream",
     "text": [
      "Training Progress:  41%|████      | 410/1000 [34:51<45:46,  4.66s/epoch]"
     ]
    },
    {
     "name": "stdout",
     "output_type": "stream",
     "text": [
      "Epoch 410/1000, Loss: 184.7528\n"
     ]
    },
    {
     "name": "stderr",
     "output_type": "stream",
     "text": [
      "Training Progress:  42%|████▏     | 420/1000 [35:38<45:31,  4.71s/epoch]"
     ]
    },
    {
     "name": "stdout",
     "output_type": "stream",
     "text": [
      "Epoch 420/1000, Loss: 182.1776\n"
     ]
    },
    {
     "name": "stderr",
     "output_type": "stream",
     "text": [
      "Training Progress:  43%|████▎     | 430/1000 [36:25<44:06,  4.64s/epoch]"
     ]
    },
    {
     "name": "stdout",
     "output_type": "stream",
     "text": [
      "Epoch 430/1000, Loss: 179.6455\n"
     ]
    },
    {
     "name": "stderr",
     "output_type": "stream",
     "text": [
      "Training Progress:  44%|████▍     | 440/1000 [37:13<48:05,  5.15s/epoch]"
     ]
    },
    {
     "name": "stdout",
     "output_type": "stream",
     "text": [
      "Epoch 440/1000, Loss: 177.2450\n"
     ]
    },
    {
     "name": "stderr",
     "output_type": "stream",
     "text": [
      "Training Progress:  45%|████▌     | 450/1000 [38:00<42:42,  4.66s/epoch]"
     ]
    },
    {
     "name": "stdout",
     "output_type": "stream",
     "text": [
      "Epoch 450/1000, Loss: 174.8981\n"
     ]
    },
    {
     "name": "stderr",
     "output_type": "stream",
     "text": [
      "Training Progress:  46%|████▌     | 460/1000 [38:55<57:51,  6.43s/epoch]"
     ]
    },
    {
     "name": "stdout",
     "output_type": "stream",
     "text": [
      "Epoch 460/1000, Loss: 172.6094\n"
     ]
    },
    {
     "name": "stderr",
     "output_type": "stream",
     "text": [
      "Training Progress:  47%|████▋     | 470/1000 [39:46<44:05,  4.99s/epoch]"
     ]
    },
    {
     "name": "stdout",
     "output_type": "stream",
     "text": [
      "Epoch 470/1000, Loss: 170.3158\n"
     ]
    },
    {
     "name": "stderr",
     "output_type": "stream",
     "text": [
      "Training Progress:  48%|████▊     | 480/1000 [40:39<42:00,  4.85s/epoch]"
     ]
    },
    {
     "name": "stdout",
     "output_type": "stream",
     "text": [
      "Epoch 480/1000, Loss: 168.0817\n"
     ]
    },
    {
     "name": "stderr",
     "output_type": "stream",
     "text": [
      "Training Progress:  49%|████▉     | 490/1000 [41:25<39:31,  4.65s/epoch]"
     ]
    },
    {
     "name": "stdout",
     "output_type": "stream",
     "text": [
      "Epoch 490/1000, Loss: 165.9053\n"
     ]
    },
    {
     "name": "stderr",
     "output_type": "stream",
     "text": [
      "Training Progress:  50%|█████     | 500/1000 [42:12<38:50,  4.66s/epoch]"
     ]
    },
    {
     "name": "stdout",
     "output_type": "stream",
     "text": [
      "Epoch 500/1000, Loss: 163.8962\n"
     ]
    },
    {
     "name": "stderr",
     "output_type": "stream",
     "text": [
      "Training Progress:  51%|█████     | 510/1000 [42:58<37:50,  4.63s/epoch]"
     ]
    },
    {
     "name": "stdout",
     "output_type": "stream",
     "text": [
      "Epoch 510/1000, Loss: 161.8395\n"
     ]
    },
    {
     "name": "stderr",
     "output_type": "stream",
     "text": [
      "Training Progress:  52%|█████▏    | 520/1000 [43:45<37:13,  4.65s/epoch]"
     ]
    },
    {
     "name": "stdout",
     "output_type": "stream",
     "text": [
      "Epoch 520/1000, Loss: 159.8153\n"
     ]
    },
    {
     "name": "stderr",
     "output_type": "stream",
     "text": [
      "Training Progress:  53%|█████▎    | 530/1000 [44:33<37:11,  4.75s/epoch]"
     ]
    },
    {
     "name": "stdout",
     "output_type": "stream",
     "text": [
      "Epoch 530/1000, Loss: 157.8555\n"
     ]
    },
    {
     "name": "stderr",
     "output_type": "stream",
     "text": [
      "Training Progress:  54%|█████▍    | 540/1000 [45:19<35:42,  4.66s/epoch]"
     ]
    },
    {
     "name": "stdout",
     "output_type": "stream",
     "text": [
      "Epoch 540/1000, Loss: 155.9854\n"
     ]
    },
    {
     "name": "stderr",
     "output_type": "stream",
     "text": [
      "Training Progress:  55%|█████▌    | 550/1000 [46:07<37:12,  4.96s/epoch]"
     ]
    },
    {
     "name": "stdout",
     "output_type": "stream",
     "text": [
      "Epoch 550/1000, Loss: 154.1562\n"
     ]
    },
    {
     "name": "stderr",
     "output_type": "stream",
     "text": [
      "Training Progress:  56%|█████▌    | 560/1000 [46:53<34:05,  4.65s/epoch]"
     ]
    },
    {
     "name": "stdout",
     "output_type": "stream",
     "text": [
      "Epoch 560/1000, Loss: 152.3468\n"
     ]
    },
    {
     "name": "stderr",
     "output_type": "stream",
     "text": [
      "Training Progress:  57%|█████▋    | 570/1000 [47:41<35:37,  4.97s/epoch]"
     ]
    },
    {
     "name": "stdout",
     "output_type": "stream",
     "text": [
      "Epoch 570/1000, Loss: 150.5225\n"
     ]
    },
    {
     "name": "stderr",
     "output_type": "stream",
     "text": [
      "Training Progress:  58%|█████▊    | 580/1000 [48:29<33:11,  4.74s/epoch]"
     ]
    },
    {
     "name": "stdout",
     "output_type": "stream",
     "text": [
      "Epoch 580/1000, Loss: 148.8094\n"
     ]
    },
    {
     "name": "stderr",
     "output_type": "stream",
     "text": [
      "Training Progress:  59%|█████▉    | 590/1000 [49:15<32:14,  4.72s/epoch]"
     ]
    },
    {
     "name": "stdout",
     "output_type": "stream",
     "text": [
      "Epoch 590/1000, Loss: 147.1044\n"
     ]
    },
    {
     "name": "stderr",
     "output_type": "stream",
     "text": [
      "Training Progress:  60%|██████    | 600/1000 [50:03<31:25,  4.71s/epoch]"
     ]
    },
    {
     "name": "stdout",
     "output_type": "stream",
     "text": [
      "Epoch 600/1000, Loss: 145.4686\n"
     ]
    },
    {
     "name": "stderr",
     "output_type": "stream",
     "text": [
      "Training Progress:  61%|██████    | 610/1000 [50:52<32:34,  5.01s/epoch]"
     ]
    },
    {
     "name": "stdout",
     "output_type": "stream",
     "text": [
      "Epoch 610/1000, Loss: 143.8429\n"
     ]
    },
    {
     "name": "stderr",
     "output_type": "stream",
     "text": [
      "Training Progress:  62%|██████▏   | 620/1000 [51:38<29:43,  4.69s/epoch]"
     ]
    },
    {
     "name": "stdout",
     "output_type": "stream",
     "text": [
      "Epoch 620/1000, Loss: 142.3224\n"
     ]
    },
    {
     "name": "stderr",
     "output_type": "stream",
     "text": [
      "Training Progress:  63%|██████▎   | 630/1000 [52:38<33:43,  5.47s/epoch]"
     ]
    },
    {
     "name": "stdout",
     "output_type": "stream",
     "text": [
      "Epoch 630/1000, Loss: 140.7120\n"
     ]
    },
    {
     "name": "stderr",
     "output_type": "stream",
     "text": [
      "Training Progress:  64%|██████▍   | 640/1000 [53:25<28:17,  4.71s/epoch]"
     ]
    },
    {
     "name": "stdout",
     "output_type": "stream",
     "text": [
      "Epoch 640/1000, Loss: 139.2164\n"
     ]
    },
    {
     "name": "stderr",
     "output_type": "stream",
     "text": [
      "Training Progress:  65%|██████▌   | 650/1000 [54:12<27:27,  4.71s/epoch]"
     ]
    },
    {
     "name": "stdout",
     "output_type": "stream",
     "text": [
      "Epoch 650/1000, Loss: 137.7104\n"
     ]
    },
    {
     "name": "stderr",
     "output_type": "stream",
     "text": [
      "Training Progress:  66%|██████▌   | 660/1000 [54:58<26:15,  4.64s/epoch]"
     ]
    },
    {
     "name": "stdout",
     "output_type": "stream",
     "text": [
      "Epoch 660/1000, Loss: 136.2816\n"
     ]
    },
    {
     "name": "stderr",
     "output_type": "stream",
     "text": [
      "Training Progress:  67%|██████▋   | 670/1000 [55:47<29:13,  5.31s/epoch]"
     ]
    },
    {
     "name": "stdout",
     "output_type": "stream",
     "text": [
      "Epoch 670/1000, Loss: 134.8355\n"
     ]
    },
    {
     "name": "stderr",
     "output_type": "stream",
     "text": [
      "Training Progress:  68%|██████▊   | 680/1000 [56:38<29:10,  5.47s/epoch]"
     ]
    },
    {
     "name": "stdout",
     "output_type": "stream",
     "text": [
      "Epoch 680/1000, Loss: 133.4139\n"
     ]
    },
    {
     "name": "stderr",
     "output_type": "stream",
     "text": [
      "Training Progress:  69%|██████▉   | 690/1000 [57:30<27:57,  5.41s/epoch]"
     ]
    },
    {
     "name": "stdout",
     "output_type": "stream",
     "text": [
      "Epoch 690/1000, Loss: 132.0746\n"
     ]
    },
    {
     "name": "stderr",
     "output_type": "stream",
     "text": [
      "Training Progress:  70%|███████   | 700/1000 [58:21<25:44,  5.15s/epoch]"
     ]
    },
    {
     "name": "stdout",
     "output_type": "stream",
     "text": [
      "Epoch 700/1000, Loss: 130.7285\n"
     ]
    },
    {
     "name": "stderr",
     "output_type": "stream",
     "text": [
      "Training Progress:  71%|███████   | 710/1000 [59:10<23:22,  4.84s/epoch]"
     ]
    },
    {
     "name": "stdout",
     "output_type": "stream",
     "text": [
      "Epoch 710/1000, Loss: 129.4196\n"
     ]
    },
    {
     "name": "stderr",
     "output_type": "stream",
     "text": [
      "Training Progress:  72%|███████▏  | 720/1000 [59:57<21:48,  4.67s/epoch]"
     ]
    },
    {
     "name": "stdout",
     "output_type": "stream",
     "text": [
      "Epoch 720/1000, Loss: 128.1166\n"
     ]
    },
    {
     "name": "stderr",
     "output_type": "stream",
     "text": [
      "Training Progress:  73%|███████▎  | 730/1000 [1:00:43<21:00,  4.67s/epoch]"
     ]
    },
    {
     "name": "stdout",
     "output_type": "stream",
     "text": [
      "Epoch 730/1000, Loss: 126.8591\n"
     ]
    },
    {
     "name": "stderr",
     "output_type": "stream",
     "text": [
      "Training Progress:  74%|███████▍  | 740/1000 [1:01:30<20:16,  4.68s/epoch]"
     ]
    },
    {
     "name": "stdout",
     "output_type": "stream",
     "text": [
      "Epoch 740/1000, Loss: 125.5964\n"
     ]
    },
    {
     "name": "stderr",
     "output_type": "stream",
     "text": [
      "Training Progress:  75%|███████▌  | 750/1000 [1:02:17<19:29,  4.68s/epoch]"
     ]
    },
    {
     "name": "stdout",
     "output_type": "stream",
     "text": [
      "Epoch 750/1000, Loss: 124.4167\n"
     ]
    },
    {
     "name": "stderr",
     "output_type": "stream",
     "text": [
      "Training Progress:  76%|███████▌  | 760/1000 [1:03:04<18:51,  4.71s/epoch]"
     ]
    },
    {
     "name": "stdout",
     "output_type": "stream",
     "text": [
      "Epoch 760/1000, Loss: 123.2827\n"
     ]
    },
    {
     "name": "stderr",
     "output_type": "stream",
     "text": [
      "Training Progress:  77%|███████▋  | 770/1000 [1:03:53<18:04,  4.71s/epoch]"
     ]
    },
    {
     "name": "stdout",
     "output_type": "stream",
     "text": [
      "Epoch 770/1000, Loss: 122.0304\n"
     ]
    },
    {
     "name": "stderr",
     "output_type": "stream",
     "text": [
      "Training Progress:  78%|███████▊  | 780/1000 [1:04:39<17:06,  4.66s/epoch]"
     ]
    },
    {
     "name": "stdout",
     "output_type": "stream",
     "text": [
      "Epoch 780/1000, Loss: 120.9180\n"
     ]
    },
    {
     "name": "stderr",
     "output_type": "stream",
     "text": [
      "Training Progress:  79%|███████▉  | 790/1000 [1:05:26<16:19,  4.66s/epoch]"
     ]
    },
    {
     "name": "stdout",
     "output_type": "stream",
     "text": [
      "Epoch 790/1000, Loss: 119.7906\n"
     ]
    },
    {
     "name": "stderr",
     "output_type": "stream",
     "text": [
      "Training Progress:  80%|████████  | 800/1000 [1:06:13<15:34,  4.67s/epoch]"
     ]
    },
    {
     "name": "stdout",
     "output_type": "stream",
     "text": [
      "Epoch 800/1000, Loss: 118.6698\n"
     ]
    },
    {
     "name": "stderr",
     "output_type": "stream",
     "text": [
      "Training Progress:  81%|████████  | 810/1000 [1:06:59<14:43,  4.65s/epoch]"
     ]
    },
    {
     "name": "stdout",
     "output_type": "stream",
     "text": [
      "Epoch 810/1000, Loss: 117.5461\n"
     ]
    },
    {
     "name": "stderr",
     "output_type": "stream",
     "text": [
      "Training Progress:  82%|████████▏ | 820/1000 [1:07:46<13:58,  4.66s/epoch]"
     ]
    },
    {
     "name": "stdout",
     "output_type": "stream",
     "text": [
      "Epoch 820/1000, Loss: 116.4919\n"
     ]
    },
    {
     "name": "stderr",
     "output_type": "stream",
     "text": [
      "Training Progress:  83%|████████▎ | 830/1000 [1:08:33<13:26,  4.74s/epoch]"
     ]
    },
    {
     "name": "stdout",
     "output_type": "stream",
     "text": [
      "Epoch 830/1000, Loss: 115.4199\n"
     ]
    },
    {
     "name": "stderr",
     "output_type": "stream",
     "text": [
      "Training Progress:  84%|████████▍ | 840/1000 [1:09:24<14:32,  5.46s/epoch]"
     ]
    },
    {
     "name": "stdout",
     "output_type": "stream",
     "text": [
      "Epoch 840/1000, Loss: 114.4394\n"
     ]
    },
    {
     "name": "stderr",
     "output_type": "stream",
     "text": [
      "Training Progress:  85%|████████▌ | 850/1000 [1:10:13<11:54,  4.76s/epoch]"
     ]
    },
    {
     "name": "stdout",
     "output_type": "stream",
     "text": [
      "Epoch 850/1000, Loss: 113.4408\n"
     ]
    },
    {
     "name": "stderr",
     "output_type": "stream",
     "text": [
      "Training Progress:  86%|████████▌ | 860/1000 [1:11:00<10:50,  4.65s/epoch]"
     ]
    },
    {
     "name": "stdout",
     "output_type": "stream",
     "text": [
      "Epoch 860/1000, Loss: 112.3949\n"
     ]
    },
    {
     "name": "stderr",
     "output_type": "stream",
     "text": [
      "Training Progress:  87%|████████▋ | 870/1000 [1:11:46<10:05,  4.66s/epoch]"
     ]
    },
    {
     "name": "stdout",
     "output_type": "stream",
     "text": [
      "Epoch 870/1000, Loss: 111.4368\n"
     ]
    },
    {
     "name": "stderr",
     "output_type": "stream",
     "text": [
      "Training Progress:  88%|████████▊ | 880/1000 [1:12:33<09:17,  4.65s/epoch]"
     ]
    },
    {
     "name": "stdout",
     "output_type": "stream",
     "text": [
      "Epoch 880/1000, Loss: 110.5093\n"
     ]
    },
    {
     "name": "stderr",
     "output_type": "stream",
     "text": [
      "Training Progress:  89%|████████▉ | 890/1000 [1:13:19<08:31,  4.65s/epoch]"
     ]
    },
    {
     "name": "stdout",
     "output_type": "stream",
     "text": [
      "Epoch 890/1000, Loss: 109.5429\n"
     ]
    },
    {
     "name": "stderr",
     "output_type": "stream",
     "text": [
      "Training Progress:  90%|█████████ | 900/1000 [1:14:07<07:44,  4.65s/epoch]"
     ]
    },
    {
     "name": "stdout",
     "output_type": "stream",
     "text": [
      "Epoch 900/1000, Loss: 108.5761\n"
     ]
    },
    {
     "name": "stderr",
     "output_type": "stream",
     "text": [
      "Training Progress:  91%|█████████ | 910/1000 [1:14:53<06:58,  4.65s/epoch]"
     ]
    },
    {
     "name": "stdout",
     "output_type": "stream",
     "text": [
      "Epoch 910/1000, Loss: 107.6703\n"
     ]
    },
    {
     "name": "stderr",
     "output_type": "stream",
     "text": [
      "Training Progress:  92%|█████████▏| 920/1000 [1:15:40<06:11,  4.64s/epoch]"
     ]
    },
    {
     "name": "stdout",
     "output_type": "stream",
     "text": [
      "Epoch 920/1000, Loss: 106.7859\n"
     ]
    },
    {
     "name": "stderr",
     "output_type": "stream",
     "text": [
      "Training Progress:  93%|█████████▎| 930/1000 [1:16:27<05:27,  4.68s/epoch]"
     ]
    },
    {
     "name": "stdout",
     "output_type": "stream",
     "text": [
      "Epoch 930/1000, Loss: 105.8971\n"
     ]
    },
    {
     "name": "stderr",
     "output_type": "stream",
     "text": [
      "Training Progress:  94%|█████████▍| 940/1000 [1:17:17<05:12,  5.21s/epoch]"
     ]
    },
    {
     "name": "stdout",
     "output_type": "stream",
     "text": [
      "Epoch 940/1000, Loss: 105.0381\n"
     ]
    },
    {
     "name": "stderr",
     "output_type": "stream",
     "text": [
      "Training Progress:  95%|█████████▌| 950/1000 [1:18:05<04:04,  4.90s/epoch]"
     ]
    },
    {
     "name": "stdout",
     "output_type": "stream",
     "text": [
      "Epoch 950/1000, Loss: 104.1937\n"
     ]
    },
    {
     "name": "stderr",
     "output_type": "stream",
     "text": [
      "Training Progress:  96%|█████████▌| 960/1000 [1:18:54<03:31,  5.28s/epoch]"
     ]
    },
    {
     "name": "stdout",
     "output_type": "stream",
     "text": [
      "Epoch 960/1000, Loss: 103.3081\n"
     ]
    },
    {
     "name": "stderr",
     "output_type": "stream",
     "text": [
      "Training Progress:  97%|█████████▋| 970/1000 [1:19:53<02:57,  5.93s/epoch]"
     ]
    },
    {
     "name": "stdout",
     "output_type": "stream",
     "text": [
      "Epoch 970/1000, Loss: 102.4931\n"
     ]
    },
    {
     "name": "stderr",
     "output_type": "stream",
     "text": [
      "Training Progress:  98%|█████████▊| 980/1000 [1:20:48<01:52,  5.60s/epoch]"
     ]
    },
    {
     "name": "stdout",
     "output_type": "stream",
     "text": [
      "Epoch 980/1000, Loss: 101.7241\n"
     ]
    },
    {
     "name": "stderr",
     "output_type": "stream",
     "text": [
      "Training Progress:  99%|█████████▉| 990/1000 [1:21:40<00:48,  4.85s/epoch]"
     ]
    },
    {
     "name": "stdout",
     "output_type": "stream",
     "text": [
      "Epoch 990/1000, Loss: 100.8639\n"
     ]
    },
    {
     "name": "stderr",
     "output_type": "stream",
     "text": [
      "Training Progress: 100%|██████████| 1000/1000 [1:22:27<00:00,  4.95s/epoch]"
     ]
    },
    {
     "name": "stdout",
     "output_type": "stream",
     "text": [
      "Epoch 1000/1000, Loss: 100.0610\n"
     ]
    },
    {
     "name": "stderr",
     "output_type": "stream",
     "text": [
      "\n"
     ]
    }
   ],
   "source": [
    "lr1 = LogisticRegression(0.01,1000,32)\n",
    "lr1.fit(train_sentences,train_labels)"
   ]
  },
  {
   "cell_type": "markdown",
   "metadata": {},
   "source": [
    "# **Logistic Regression for Text Classification**\n",
    "\n",
    "## **1. Model Initialization (`__init__`)**\n",
    "The model initializes with:\n",
    "- **learning_rate**: Controls the step size for weight updates.\n",
    "- **num_of_iterations**: Defines the number of training epochs.\n",
    "- **batch_size**: Determines how many samples are processed in one update.\n",
    "- **weights & bias**: Model parameters initialized to zero.\n",
    "- **bigrams**: Stores unique bigram features extracted from text.\n",
    "- **class_weights**: Adjusts for class imbalance.\n",
    "\n",
    "---\n",
    "\n",
    "## **2. Extracting Bigrams (`get_bigrams`)**\n",
    "Bigrams are pairs of consecutive words in a sentence.\n",
    "\n",
    "**Example:**\n",
    "Sentence: \"I love machine learning\" Bigrams: [(\"I\", \"love\"), (\"love\", \"machine\"), (\"machine\", \"learning\")]\n",
    "\n",
    "Each unique bigram gets a unique index in the vocabulary.\n",
    "\n",
    "---\n",
    "\n",
    "## **3. Converting Sentences to Feature Vectors (`vectorize_sentence`)**\n",
    "Each sentence is converted into a binary feature vector (1 if a bigram exists, 0 otherwise).\n",
    "\n",
    "**Example:**\n",
    "Bigrams Dictionary: {(\"I\", \"love\"): 0, (\"love\", \"machine\"): 1, (\"machine\", \"learning\"): 2} Sentence: \"I love machine learning\" Vectorized Output: [1, 1, 1]\n",
    "\n",
    "\n",
    "---\n",
    "\n",
    "## **4. Softmax Function (`softmax`)**\n",
    "Softmax converts raw scores (\\( z \\)) into probabilities:\n",
    "\n",
    "\\[\n",
    "\\text{softmax}(z_i) = \\frac{e^{z_i}}{\\sum_{j} e^{z_j}}\n",
    "\\]\n",
    "\n",
    "This ensures the output values sum to 1 across classes.\n",
    "\n",
    "---\n",
    "\n",
    "## **5. Computing Cross-Entropy Loss (`multiclass_cross_entropy_loss`)**\n",
    "The loss function measures how well the model predicts the correct class:\n",
    "\n",
    "$[\n",
    "L = - \\frac{1}{N} \\sum_{i} w_{y_i} \\cdot y_i \\log(\\hat{y}_i)\n",
    "]$\n",
    "\n",
    "Where:\n",
    "- $( y_i )$ is the one-hot encoded true label.\n",
    "- $( \\hat{y}_i )$ is the predicted probability.\n",
    "- $( w_{y_i} )$ is the class weight (to handle imbalance).\n",
    "\n",
    "**Example Calculation:**\n",
    "\n",
    "True Label: Class 2 (one-hot: [0, 0, 1]) Predicted: [0.2, 0.3, 0.5] Loss = - (1 * log(0.5))\n",
    "\n",
    "\n",
    "---\n",
    "\n",
    "## **6. Computing Class Weights (`compute_class_weights`)**\n",
    "Handles class imbalance by assigning higher weights to underrepresented classes.\n",
    "\n",
    "$[\n",
    "w_c = \\frac{N}{K \\cdot N_c}\n",
    "]$\n",
    "\n",
    "Where:\n",
    "- $( N )$ = Total samples.\n",
    "- $( K )$ = Number of classes.\n",
    "- $( N_c )$ = Samples in class $( c )$.\n",
    "\n",
    "---\n",
    "\n",
    "## **7. Gradient Descent Update (`gradient_descent`)**\n",
    "Updates weights and bias using the derivative of the loss function:\n",
    "\n",
    "$[\n",
    "W = W - \\alpha \\frac{1}{N} X^T (y_{\\text{pred}} - y)\n",
    "]$\n",
    "\n",
    "$[\n",
    "b = b - \\alpha \\frac{1}{N} \\sum (y_{\\text{pred}} - y)\n",
    "]$\n",
    "\n",
    "Where:\n",
    "- $( \\alpha )$ = Learning rate.\n",
    "- $( X )$ = Input features.\n",
    "- $( y_{\\text{pred}} )$ = Predicted probabilities.\n",
    "- $( y )$ = True labels.\n"
   ]
  },
  {
   "cell_type": "code",
   "execution_count": 26,
   "metadata": {},
   "outputs": [
    {
     "name": "stdout",
     "output_type": "stream",
     "text": [
      "+---------+----------+\n",
      "| Dataset | Accuracy |\n",
      "+---------+----------+\n",
      "|  Train  |  0.9882  |\n",
      "|   Test  |  0.3493  |\n",
      "+---------+----------+\n"
     ]
    }
   ],
   "source": [
    "# Compute predictions and accuracies\n",
    "lr1_train_predictions = lr1.predict(train_sentences)\n",
    "lr1_train_accuracy = np.mean(lr1_train_predictions == train_labels)\n",
    "\n",
    "lr1_test_predictions = lr1.predict(test_sentences)\n",
    "lr1_test_accuracy = np.mean(lr1_test_predictions == test_labels)\n",
    "\n",
    "# Create table\n",
    "table = PrettyTable()\n",
    "table.field_names = [\"Dataset\", \"Accuracy\"]\n",
    "table.add_row([\"Train\", f\"{lr1_train_accuracy:.4f}\"])\n",
    "table.add_row([\"Test\", f\"{lr1_test_accuracy:.4f}\"])\n",
    "\n",
    "# Print table\n",
    "print(table)\n"
   ]
  },
  {
   "cell_type": "code",
   "execution_count": 29,
   "metadata": {},
   "outputs": [
    {
     "name": "stdout",
     "output_type": "stream",
     "text": [
      "+---------+--------------+\n",
      "| Dataset | SGD Accuracy |\n",
      "+---------+--------------+\n",
      "|  Train  |    0.9940    |\n",
      "|   Test  |    0.3443    |\n",
      "+---------+--------------+\n"
     ]
    }
   ],
   "source": [
    "pipeline_sgd = make_pipeline(\n",
    "    CountVectorizer(ngram_range=(2, 2)),\n",
    "    SGDClassifier(loss='log_loss', max_iter=1000)\n",
    ")\n",
    "\n",
    "pipeline_sgd.fit(train_sentences, train_labels)\n",
    "\n",
    "# Compute predictions and accuracies\n",
    "sgd_train_predictions = pipeline_sgd.predict(train_sentences)\n",
    "sgd_train_accuracy = np.mean(sgd_train_predictions == train_labels)\n",
    "\n",
    "sgd_test_predictions = pipeline_sgd.predict(test_sentences)\n",
    "sgd_test_accuracy = np.mean(sgd_test_predictions == test_labels)\n",
    "\n",
    "# Create table\n",
    "table = PrettyTable()\n",
    "table.field_names = [\"Dataset\", \"SGD Accuracy\"]\n",
    "table.add_row([\"Train\", f\"{sgd_train_accuracy:.4f}\"])\n",
    "table.add_row([\"Test\", f\"{sgd_test_accuracy:.4f}\"])\n",
    "\n",
    "# Print table\n",
    "print(table)"
   ]
  },
  {
   "cell_type": "code",
   "execution_count": 30,
   "metadata": {},
   "outputs": [
    {
     "name": "stdout",
     "output_type": "stream",
     "text": [
      "+---------+------------------------------+\n",
      "| Dataset | Logistic Regression Accuracy |\n",
      "+---------+------------------------------+\n",
      "|  Train  |            0.9946            |\n",
      "|   Test  |            0.3489            |\n",
      "+---------+------------------------------+\n"
     ]
    }
   ],
   "source": [
    "pipeline_lr = make_pipeline(\n",
    "    CountVectorizer(ngram_range=(2, 2)),\n",
    "    LogisticRegression(max_iter=1000)\n",
    ")\n",
    "\n",
    "pipeline_lr.fit(train_sentences, train_labels)\n",
    "\n",
    "# Compute predictions and accuracies\n",
    "lr_train_predictions = pipeline_lr.predict(train_sentences)\n",
    "lr_train_accuracy = np.mean(lr_train_predictions == train_labels)\n",
    "\n",
    "lr_test_predictions = pipeline_lr.predict(test_sentences)\n",
    "lr_test_accuracy = np.mean(lr_test_predictions == test_labels)\n",
    "\n",
    "# Create table\n",
    "table = PrettyTable()\n",
    "table.field_names = [\"Dataset\", \"Logistic Regression Accuracy\"]\n",
    "table.add_row([\"Train\", f\"{lr_train_accuracy:.4f}\"])\n",
    "table.add_row([\"Test\", f\"{lr_test_accuracy:.4f}\"])\n",
    "\n",
    "# Print table\n",
    "print(table)"
   ]
  },
  {
   "cell_type": "code",
   "execution_count": 31,
   "metadata": {},
   "outputs": [
    {
     "name": "stdout",
     "output_type": "stream",
     "text": [
      "+-------------------------------+----------------+---------------+\n",
      "|             Model             | Train Accuracy | Test Accuracy |\n",
      "+-------------------------------+----------------+---------------+\n",
      "| Logistic Regression (Scratch) |     0.9882     |     0.3493    |\n",
      "| Logistic Regression (sklearn) |     0.9946     |     0.3489    |\n",
      "|         SGD Classifier        |     0.9940     |     0.3443    |\n",
      "+-------------------------------+----------------+---------------+\n"
     ]
    }
   ],
   "source": [
    "table = PrettyTable()\n",
    "table.field_names = [\"Model\", \"Train Accuracy\", \"Test Accuracy\"]\n",
    "table.add_row([\"Logistic Regression (Scratch)\", f\"{lr1_train_accuracy:.4f}\", f\"{lr1_test_accuracy:.4f}\"])\n",
    "table.add_row([\"Logistic Regression (sklearn)\", f\"{lr_train_accuracy:.4f}\", f\"{lr_test_accuracy:.4f}\"])\n",
    "table.add_row([\"SGD Classifier\", f\"{sgd_train_accuracy:.4f}\", f\"{sgd_test_accuracy:.4f}\"])\n",
    "\n",
    "# Print table\n",
    "print(table)"
   ]
  },
  {
   "cell_type": "code",
   "execution_count": 32,
   "metadata": {},
   "outputs": [
    {
     "name": "stdout",
     "output_type": "stream",
     "text": [
      "using from scratch functions\n",
      "The confusion matrix (LR Scratch):\n"
     ]
    },
    {
     "data": {
      "image/png": "[encoded data removed]",
      "text/plain": [
       "<Figure size 500x500 with 2 Axes>"
      ]
     },
     "metadata": {},
     "output_type": "display_data"
    },
    {
     "name": "stdout",
     "output_type": "stream",
     "text": [
      "The Metrics of (LR Scratch):\n",
      "Class-wise Metrics:\n",
      "Class 0:\n",
      "Precision: 0.24  Recall: 0.24  F1 Score: 0.24\n",
      "\n",
      "Class 1:\n",
      "Precision: 0.39  Recall: 0.33  F1 Score: 0.36\n",
      "\n",
      "Class 2:\n",
      "Precision: 0.21  Recall: 0.28  F1 Score: 0.24\n",
      "\n",
      "Class 3:\n",
      "Precision: 0.36  Recall: 0.36  F1 Score: 0.36\n",
      "\n",
      "Class 4:\n",
      "Precision: 0.41  Recall: 0.40  F1 Score: 0.40\n",
      "\n",
      "Macro-Averaged Metrics:\n",
      "Macro Precision: 0.32  Macro Recall: 0.32  Macro F1 Score: 0.32\n"
     ]
    }
   ],
   "source": [
    "# Metrics of LR from scratch\n",
    "\n",
    "print('using from scratch functions') \n",
    "\n",
    "evaluate_model_scratch(test_labels, lr1_predictions, 5,\"LR Scratch\")"
   ]
  },
  {
   "cell_type": "code",
   "execution_count": 33,
   "metadata": {},
   "outputs": [],
   "source": [
    "from sklearn.metrics import confusion_matrix, precision_score, recall_score, f1_score\n",
    "\n",
    "def evaluate_model_sklearn(test_labels, predictions, num_classes,model_name):\n",
    "    \n",
    "    # Compute confusion matrix\n",
    "    cm = confusion_matrix(test_labels, predictions)\n",
    "    print(f'The confusion matrix ({model_name}):')    \n",
    "    # Plot the confusion matrix\n",
    "    plot_confusion_matrix(cm, num_classes)\n",
    "    \n",
    "    # Calculate per-class metrics\n",
    "    precision_per_class = precision_score(test_labels, predictions, average=None, labels=range(num_classes))\n",
    "    recall_per_class = recall_score(test_labels, predictions, average=None, labels=range(num_classes))\n",
    "    f1_per_class = f1_score(test_labels, predictions, average=None, labels=range(num_classes))\n",
    "    \n",
    "    # Calculate different averages\n",
    "    macro_precision = precision_score(test_labels, predictions, average='macro')\n",
    "    macro_recall = recall_score(test_labels, predictions, average='macro')\n",
    "    macro_f1 = f1_score(test_labels, predictions, average='macro')\n",
    "    \n",
    "    # Collect metrics in a dictionary to use with print_metrics function\n",
    "    results = {\n",
    "        \"precision_per_class\": precision_per_class,\n",
    "        \"recall_per_class\": recall_per_class,\n",
    "        \"f1_per_class\": f1_per_class,\n",
    "        \"macro_precision\": macro_precision,\n",
    "        \"macro_recall\": macro_recall,\n",
    "        \"macro_f1\": macro_f1\n",
    "    }\n",
    "    \n",
    "    # Print the metrics\n",
    "    print(f'The Metrics of ({model_name}):')\n",
    "    print_metrics(results)\n",
    "\n",
    "\n"
   ]
  },
  {
   "cell_type": "code",
   "execution_count": 34,
   "metadata": {},
   "outputs": [
    {
     "name": "stdout",
     "output_type": "stream",
     "text": [
      "using sklearn functions\n",
      "The confusion matrix (LR SGD with Bigrams):\n"
     ]
    },
    {
     "data": {
      "image/png": "[encoded data removed]",
      "text/plain": [
       "<Figure size 500x500 with 2 Axes>"
      ]
     },
     "metadata": {},
     "output_type": "display_data"
    },
    {
     "name": "stdout",
     "output_type": "stream",
     "text": [
      "The Metrics of (LR SGD with Bigrams):\n",
      "Class-wise Metrics:\n",
      "Class 0:\n",
      "Precision: 0.28  Recall: 0.10  F1 Score: 0.15\n",
      "\n",
      "Class 1:\n",
      "Precision: 0.39  Recall: 0.51  F1 Score: 0.44\n",
      "\n",
      "Class 2:\n",
      "Precision: 0.18  Recall: 0.12  F1 Score: 0.15\n",
      "\n",
      "Class 3:\n",
      "Precision: 0.32  Recall: 0.53  F1 Score: 0.40\n",
      "\n",
      "Class 4:\n",
      "Precision: 0.49  Recall: 0.23  F1 Score: 0.31\n",
      "\n",
      "Macro-Averaged Metrics:\n",
      "Macro Precision: 0.33  Macro Recall: 0.30  Macro F1 Score: 0.29\n"
     ]
    }
   ],
   "source": [
    "print('using sklearn functions') \n",
    "evaluate_model_sklearn(test_labels, sgd_predictions, 5,\"LR SGD with Bigrams\")"
   ]
  },
  {
   "cell_type": "code",
   "execution_count": 46,
   "metadata": {},
   "outputs": [
    {
     "name": "stdout",
     "output_type": "stream",
     "text": [
      "using from scratch functions\n",
      "The confusion matrix (LR sklearn):\n"
     ]
    },
    {
     "data": {
      "image/png": "[encoded data removed]",
      "text/plain": [
       "<Figure size 500x500 with 2 Axes>"
      ]
     },
     "metadata": {},
     "output_type": "display_data"
    },
    {
     "name": "stdout",
     "output_type": "stream",
     "text": [
      "The Metrics of (LR sklearn):\n",
      "Class-wise Metrics:\n",
      "Class 0:\n",
      "Precision: 0.33  Recall: 0.13  F1 Score: 0.19\n",
      "\n",
      "Class 1:\n",
      "Precision: 0.39  Recall: 0.52  F1 Score: 0.45\n",
      "\n",
      "Class 2:\n",
      "Precision: 0.21  Recall: 0.15  F1 Score: 0.17\n",
      "\n",
      "Class 3:\n",
      "Precision: 0.34  Recall: 0.54  F1 Score: 0.41\n",
      "\n",
      "Class 4:\n",
      "Precision: 0.49  Recall: 0.21  F1 Score: 0.29\n",
      "\n",
      "Macro-Averaged Metrics:\n",
      "Macro Precision: 0.35  Macro Recall: 0.31  Macro F1 Score: 0.30\n"
     ]
    }
   ],
   "source": [
    "print('using from scratch functions') \n",
    "evaluate_model_scratch(test_labels, lr_predictions, 5,\"LR sklearn\")"
   ]
  },
  {
   "cell_type": "code",
   "execution_count": 35,
   "metadata": {},
   "outputs": [
    {
     "name": "stdout",
     "output_type": "stream",
     "text": [
      "using sklearn functions\n",
      "The confusion matrix (LR sklearn):\n"
     ]
    },
    {
     "data": {
      "image/png": "[encoded data removed]",
      "text/plain": [
       "<Figure size 500x500 with 2 Axes>"
      ]
     },
     "metadata": {},
     "output_type": "display_data"
    },
    {
     "name": "stdout",
     "output_type": "stream",
     "text": [
      "The Metrics of (LR sklearn):\n",
      "Class-wise Metrics:\n",
      "Class 0:\n",
      "Precision: 0.30  Recall: 0.11  F1 Score: 0.16\n",
      "\n",
      "Class 1:\n",
      "Precision: 0.39  Recall: 0.51  F1 Score: 0.44\n",
      "\n",
      "Class 2:\n",
      "Precision: 0.18  Recall: 0.12  F1 Score: 0.14\n",
      "\n",
      "Class 3:\n",
      "Precision: 0.34  Recall: 0.56  F1 Score: 0.42\n",
      "\n",
      "Class 4:\n",
      "Precision: 0.50  Recall: 0.21  F1 Score: 0.30\n",
      "\n",
      "Macro-Averaged Metrics:\n",
      "Macro Precision: 0.34  Macro Recall: 0.30  Macro F1 Score: 0.29\n"
     ]
    }
   ],
   "source": [
    "print('using sklearn functions') \n",
    "\n",
    "evaluate_model_sklearn(test_labels, lr_predictions, 5,\"LR sklearn\")"
   ]
  },
  {
   "cell_type": "code",
   "execution_count": 38,
   "metadata": {},
   "outputs": [
    {
     "name": "stdout",
     "output_type": "stream",
     "text": [
      "+-------------------------------------------------------------------------------------------------------------------------------------+------------+-----------------+------------------+-----------------+\n",
      "|                                                             Test Sample                                                             | True Label | LR From Scratch | SGD with Bigrams | LR with Bigrams |\n",
      "+-------------------------------------------------------------------------------------------------------------------------------------+------------+-----------------+------------------+-----------------+\n",
      "|                                           but like most rabbits it seems to lack substance                                          |     1      |        1        |        1         |        1        |\n",
      "|                                                             no question                                                             |     2      |        2        |        1         |        1        |\n",
      "|               nolan bravely treads where few american films dare to delve into the world of ambivalence and ambiguity               |     3      |        3        |        3         |        3        |\n",
      "|                                                 the movie makes absolutely no sense                                                 |     0      |        0        |        1         |        1        |\n",
      "| this is a raw and disturbing tale that took five years to make and the trio absorbing narrative is a heartwrenching showcase indeed |     3      |        4        |        2         |        2        |\n",
      "+-------------------------------------------------------------------------------------------------------------------------------------+------------+-----------------+------------------+-----------------+\n"
     ]
    }
   ],
   "source": [
    "import random\n",
    "\n",
    "def show_random_predictions(test_sentences, test_labels, models):\n",
    "    sample_indices = random.sample(range(len(test_sentences)), 5)  # Select 5 random samples\n",
    "    \n",
    "    table = PrettyTable()\n",
    "    table.field_names = [\"Test Sample\", \"True Label\"] + list(models.keys())\n",
    "    \n",
    "    for idx in sample_indices:\n",
    "        sample_text = test_sentences[idx]\n",
    "        true_label = test_labels[idx]\n",
    "        \n",
    "        predictions = {model_name: model.predict([sample_text])[0] for model_name, model in models.items()}\n",
    "        \n",
    "        table.add_row([sample_text] + [true_label] + list(predictions.values()))\n",
    "    \n",
    "    print(table)\n",
    "\n",
    "# Define models in a dictionary\n",
    "models = {\n",
    "    \"LR From Scratch\": lr1,\n",
    "    \"SGD with Bigrams\": pipeline_sgd,\n",
    "    \"LR with Bigrams\": pipeline_lr\n",
    "}\n",
    "\n",
    "# Show random predictions\n",
    "show_random_predictions(test_sentences, test_labels, models)"
   ]
  }
 ],
 "metadata": {
  "kernelspec": {
   "display_name": "base",
   "language": "python",
   "name": "python3"
  },
  "language_info": {
   "codemirror_mode": {
    "name": "ipython",
    "version": 3
   },
   "file_extension": ".py",
   "mimetype": "text/x-python",
   "name": "python",
   "nbconvert_exporter": "python",
   "pygments_lexer": "ipython3",
   "version": "3.12.4"
  }
 },
 "nbformat": 4,
 "nbformat_minor": 2
}
